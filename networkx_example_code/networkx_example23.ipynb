{
 "cells": [
  {
   "cell_type": "markdown",
   "metadata": {
    "collapsed": true,
    "pycharm": {
     "name": "#%% md\n"
    }
   },
   "source": [
    "### 《NetworkX编程实践基础》\n",
    "##### 23课：网络可视化（进阶）"
   ]
  },
  {
   "cell_type": "code",
   "execution_count": 1,
   "metadata": {
    "collapsed": false,
    "pycharm": {
     "name": "#%%\n"
    }
   },
   "outputs": [],
   "source": [
    "# !/usr/bin/python3\n",
    "# -*- coding: utf-8 -*-\n",
    "# Author ： 单哥的科研日常\n",
    "# 示例程序所用库的版本：networkx==2.6.3"
   ]
  },
  {
   "cell_type": "code",
   "execution_count": 1,
   "metadata": {
    "collapsed": false,
    "pycharm": {
     "name": "#%%\n"
    }
   },
   "outputs": [],
   "source": [
    "import networkx as nx"
   ]
  },
  {
   "cell_type": "code",
   "execution_count": 2,
   "metadata": {},
   "outputs": [],
   "source": [
    "# 无向加权图：自定义节点坐标（布局），适用于绘制小规模网络\n",
    "# 创建一个无向加权图\n",
    "G = nx.Graph()\n",
    "nodes = [0,1,2,3,4,5,6,7]\n",
    "edge_list = [(0,1,2),(0,2,8),(0,3,1),(1,2,6),\n",
    "                (1, 4, 1), (2, 3, 7), (2, 4, 5), (2, 5, 1),\n",
    "                (2,6,2),(3,6,9),(4,5,3),(4,7,8),\n",
    "                (5,6,4),(5,7,6),(6,7,3)]\n",
    "G.add_nodes_from(nodes)\n",
    "G.add_weighted_edges_from(edge_list)"
   ]
  },
  {
   "cell_type": "code",
   "execution_count": 3,
   "metadata": {},
   "outputs": [
    {
     "data": {
      "text/plain": [
       "{(0, 1): Text(-1.5, 0.5, '2'),\n",
       " (0, 2): Text(-1.5, 0.0, '8'),\n",
       " (0, 3): Text(-1.5, -0.5, '1'),\n",
       " (1, 2): Text(-1.0, 0.5, '6'),\n",
       " (1, 4): Text(0.0, 1.0, '1'),\n",
       " (2, 3): Text(-1.0, -0.5, '7'),\n",
       " (2, 4): Text(0.0, 0.5, '5'),\n",
       " (2, 5): Text(0.0, 0.0, '1'),\n",
       " (2, 6): Text(0.0, -0.5, '2'),\n",
       " (3, 6): Text(0.0, -1.0, '9'),\n",
       " (4, 5): Text(1.0, 0.5, '3'),\n",
       " (4, 7): Text(1.5, 0.5, '8'),\n",
       " (5, 6): Text(1.0, -0.5, '4'),\n",
       " (5, 7): Text(1.5, 0.0, '6'),\n",
       " (6, 7): Text(1.5, -0.5, '3')}"
      ]
     },
     "execution_count": 3,
     "metadata": {},
     "output_type": "execute_result"
    },
    {
     "data": {
      "image/png": "[encoded data removed]",
      "text/plain": [
       "<Figure size 432x288 with 1 Axes>"
      ]
     },
     "metadata": {},
     "output_type": "display_data"
    }
   ],
   "source": [
    "# 自定义各个节点的坐标\n",
    "pos = {0: (-2,0), 1:(-1,1), 2:(-1,0), 3:(-1,-1),\n",
    "        4: (1,1), 5:(1,0), 6:(1,-1), 7:(2,0)}\n",
    "nx.draw(G, pos, node_size=500, node_color=\"red\", with_labels=True)\n",
    "\n",
    "# 将连边标签设定为其权重值\n",
    "e_labels = {(0, 1):\"2\",(0, 2):\"8\",(0, 3):\"1\",(1, 2):\"6\",\n",
    "            (1, 4): \"1\", (2, 3): \"7\", (2, 4): \"5\", (2, 5): \"1\",\n",
    "            (2, 6):\"2\",(3,6):\"9\",(4, 5):\"3\",(4,7):\"8\",\n",
    "            (5, 6):\"4\",(5,7):\"6\",(6, 7):\"3\"}\n",
    "nx.draw_networkx_edge_labels(G, pos, edge_labels=e_labels)"
   ]
  },
  {
   "cell_type": "code",
   "execution_count": 4,
   "metadata": {},
   "outputs": [
    {
     "data": {
      "image/png": "[encoded data removed]",
      "text/plain": [
       "<Figure size 432x288 with 1 Axes>"
      ]
     },
     "metadata": {},
     "output_type": "display_data"
    }
   ],
   "source": [
    "# 设置连边粗细与权重成正比\n",
    "edgewidth = [G.get_edge_data(*e)['weight'] for e in G.edges()]\n",
    "options = {\n",
    "    'pos': pos,\n",
    "    'node_size': 500,\n",
    "    'node_color': \"red\",\n",
    "    'edge_color': \"gray\",\n",
    "    'width': edgewidth,\n",
    "    'with_labels': True,\n",
    "}\n",
    "nx.draw(G, **options) "
   ]
  },
  {
   "cell_type": "code",
   "execution_count": null,
   "metadata": {},
   "outputs": [],
   "source": []
  }
 ],
 "metadata": {
  "kernelspec": {
   "display_name": "Python 3.9.6 64-bit",
   "language": "python",
   "name": "python3"
  },
  "language_info": {
   "codemirror_mode": {
    "name": "ipython",
    "version": 3
   },
   "file_extension": ".py",
   "mimetype": "text/x-python",
   "name": "python",
   "nbconvert_exporter": "python",
   "pygments_lexer": "ipython3",
   "version": "3.9.6"
  },
  "vscode": {
   "interpreter": {
    "hash": "12cf4d0b9b7b18c55261077a6853aabe6f033db06abf1184072cd2e823f414c8"
   }
  }
 },
 "nbformat": 4,
 "nbformat_minor": 0
}
