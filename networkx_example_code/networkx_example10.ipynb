{
 "cells": [
  {
   "cell_type": "markdown",
   "metadata": {
    "collapsed": true,
    "pycharm": {
     "name": "#%% md\n"
    }
   },
   "source": [
    "### 《NetworkX编程实践基础》\n",
    "##### 10课：计算网络节点的中心性\n",
    "##### 度中心性、特征向量中心性、接近度中心性、\n",
    "##### 介数中心性和PageRank中心性"
   ]
  },
  {
   "cell_type": "code",
   "execution_count": 1,
   "metadata": {
    "collapsed": false,
    "pycharm": {
     "name": "#%%\n"
    }
   },
   "outputs": [],
   "source": [
    "# !/usr/bin/python3\n",
    "# -*- coding: utf-8 -*-\n",
    "# Author ： 单哥的科研日常\n",
    "# 示例程序所用库的版本：networkx==2.6.3"
   ]
  },
  {
   "cell_type": "code",
   "execution_count": 1,
   "metadata": {
    "collapsed": false,
    "pycharm": {
     "name": "#%%\n"
    }
   },
   "outputs": [],
   "source": [
    "import networkx as nx"
   ]
  },
  {
   "cell_type": "markdown",
   "metadata": {},
   "source": [
    "#### 创建一个简单无向图来展开演示"
   ]
  },
  {
   "cell_type": "code",
   "execution_count": 2,
   "metadata": {
    "collapsed": false,
    "pycharm": {
     "name": "#%%\n"
    }
   },
   "outputs": [
    {
     "data": {
      "image/png": "[encoded data removed]",
      "text/plain": [
       "<Figure size 432x288 with 1 Axes>"
      ]
     },
     "metadata": {},
     "output_type": "display_data"
    }
   ],
   "source": [
    "G = nx.Graph()\n",
    "G.add_nodes_from([1,2,3,4,5,6,7])\n",
    "G.add_edges_from([(1,2),(2,3),(2,4),(2,5),(4,5),(4,6),(4,7),(5,7)])\n",
    "nx.draw(G, node_size=500, with_labels=True)"
   ]
  },
  {
   "cell_type": "code",
   "execution_count": 8,
   "metadata": {
    "collapsed": false,
    "pycharm": {
     "name": "#%%\n"
    }
   },
   "outputs": [
    {
     "name": "stdout",
     "output_type": "stream",
     "text": [
      "{1: 0.16666666666666666, 2: 0.6666666666666666, 3: 0.16666666666666666, 4: 0.6666666666666666, 5: 0.5, 6: 0.16666666666666666, 7: 0.3333333333333333}\n",
      "节点1的度中心性值为0.1667\n",
      "节点2的度中心性值为0.6667\n",
      "节点3的度中心性值为0.1667\n",
      "节点4的度中心性值为0.6667\n",
      "节点5的度中心性值为0.5000\n",
      "节点6的度中心性值为0.1667\n",
      "节点7的度中心性值为0.3333\n"
     ]
    }
   ],
   "source": [
    "# 度中心性\n",
    "print(nx.degree_centrality(G))\n",
    "# 遍历输出结果\n",
    "DC = nx.degree_centrality(G)\n",
    "for i in DC.keys():\n",
    "    print(\"节点{}的度中心性值为{:.4f}\".format(i, DC[i]))"
   ]
  },
  {
   "cell_type": "code",
   "execution_count": 4,
   "metadata": {},
   "outputs": [
    {
     "name": "stdout",
     "output_type": "stream",
     "text": [
      "{1: 0.17163197298906557, 2: 0.48607121913025153, 3: 0.17163197298906557, 4: 0.5416128697886126, 5: 0.49170712426901436, 6: 0.19124263164112745, 7: 0.3648637563453076}\n"
     ]
    }
   ],
   "source": [
    "# 特征向量中心性\n",
    "print(nx.eigenvector_centrality(G))"
   ]
  },
  {
   "cell_type": "code",
   "execution_count": 5,
   "metadata": {},
   "outputs": [
    {
     "name": "stdout",
     "output_type": "stream",
     "text": [
      "{1: 0.46153846153846156, 2: 0.75, 3: 0.46153846153846156, 4: 0.75, 5: 0.6666666666666666, 6: 0.46153846153846156, 7: 0.5}\n"
     ]
    }
   ],
   "source": [
    "# 接近度中心性\n",
    "print(nx.closeness_centrality(G))"
   ]
  },
  {
   "cell_type": "code",
   "execution_count": 6,
   "metadata": {
    "collapsed": false,
    "pycharm": {
     "name": "#%%\n"
    }
   },
   "outputs": [
    {
     "name": "stdout",
     "output_type": "stream",
     "text": [
      "{1: 0.0, 2: 0.6, 3: 0.0, 4: 0.43333333333333335, 5: 0.1, 6: 0.0, 7: 0.0}\n",
      "{(1, 2): 0.2857142857142857, (2, 3): 0.2857142857142857, (2, 4): 0.3571428571428571, (2, 5): 0.21428571428571427, (4, 5): 0.09523809523809523, (4, 6): 0.2857142857142857, (4, 7): 0.16666666666666666, (5, 7): 0.11904761904761904}\n"
     ]
    }
   ],
   "source": [
    "# 节点介数中心性\n",
    "print(nx.betweenness_centrality(G))\n",
    "# 边介数中心性\n",
    "print(nx.edge_betweenness_centrality(G))"
   ]
  },
  {
   "cell_type": "code",
   "execution_count": 7,
   "metadata": {
    "collapsed": false,
    "pycharm": {
     "name": "#%%\n"
    }
   },
   "outputs": [
    {
     "name": "stdout",
     "output_type": "stream",
     "text": [
      "{1: 0.07394083453512931, 2: 0.24711838758037688, 3: 0.07394083453512931, 4: 0.23621729817083723, 5: 0.17573965983237305, 6: 0.07162495997566895, 7: 0.12141802537048527}\n"
     ]
    }
   ],
   "source": [
    "# PageRank中心性\n",
    "print(nx.pagerank(G))"
   ]
  },
  {
   "cell_type": "code",
   "execution_count": null,
   "metadata": {},
   "outputs": [],
   "source": []
  }
 ],
 "metadata": {
  "kernelspec": {
   "display_name": "Python 3.9.6 64-bit",
   "language": "python",
   "name": "python3"
  },
  "language_info": {
   "codemirror_mode": {
    "name": "ipython",
    "version": 3
   },
   "file_extension": ".py",
   "mimetype": "text/x-python",
   "name": "python",
   "nbconvert_exporter": "python",
   "pygments_lexer": "ipython3",
   "version": "3.9.6"
  },
  "vscode": {
   "interpreter": {
    "hash": "12cf4d0b9b7b18c55261077a6853aabe6f033db06abf1184072cd2e823f414c8"
   }
  }
 },
 "nbformat": 4,
 "nbformat_minor": 0
}
