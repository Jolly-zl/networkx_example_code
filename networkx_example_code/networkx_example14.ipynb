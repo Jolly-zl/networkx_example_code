{
 "cells": [
  {
   "cell_type": "markdown",
   "metadata": {
    "collapsed": true,
    "pycharm": {
     "name": "#%% md\n"
    }
   },
   "source": [
    "### 《NetworkX编程实践基础》\n",
    "##### 14课：针对图、节点以及连边的一些基本功能"
   ]
  },
  {
   "cell_type": "code",
   "execution_count": 1,
   "metadata": {
    "collapsed": false,
    "pycharm": {
     "name": "#%%\n"
    }
   },
   "outputs": [],
   "source": [
    "# !/usr/bin/python3\n",
    "# -*- coding: utf-8 -*-\n",
    "# Author ： 单哥的科研日常\n",
    "# 示例程序所用库的版本：networkx==2.6.3"
   ]
  },
  {
   "cell_type": "code",
   "execution_count": 2,
   "metadata": {
    "collapsed": false,
    "pycharm": {
     "name": "#%%\n"
    }
   },
   "outputs": [],
   "source": [
    "import networkx as nx"
   ]
  },
  {
   "cell_type": "markdown",
   "metadata": {},
   "source": [
    "#### 创建一个简单连通无向图来展开演示"
   ]
  },
  {
   "cell_type": "code",
   "execution_count": 3,
   "metadata": {
    "collapsed": false,
    "pycharm": {
     "name": "#%%\n"
    }
   },
   "outputs": [
    {
     "data": {
      "image/png": "[encoded data removed]",
      "text/plain": [
       "<Figure size 432x288 with 1 Axes>"
      ]
     },
     "metadata": {},
     "output_type": "display_data"
    }
   ],
   "source": [
    "G = nx.Graph()\n",
    "G.add_nodes_from([1,2,3,4,5,6,7])\n",
    "G.add_edges_from([(1,2),(2,3),(2,4),(2,5),(4,5),(4,6),(4,7),(5,7)])\n",
    "nx.draw(G, node_size=500, with_labels=True)"
   ]
  },
  {
   "cell_type": "code",
   "execution_count": 7,
   "metadata": {
    "collapsed": false,
    "pycharm": {
     "name": "#%%\n"
    }
   },
   "outputs": [
    {
     "name": "stdout",
     "output_type": "stream",
     "text": [
      "{1: 1, 2: 4, 3: 1, 4: 4, 5: 3, 6: 1, 7: 2}\n",
      "Graph with 7 nodes and 8 edges\n",
      "Node 4 has the following properties:\n",
      "Degree: 4\n",
      "Neighbors: 2 5 6 7\n",
      "0.38095238095238093\n"
     ]
    }
   ],
   "source": [
    "# 获取图节点的度\n",
    "print(dict(nx.degree(G)))\n",
    "# 获取图的基本信息\n",
    "print(nx.info(G))\n",
    "# 获取指定节点的信息\n",
    "print(nx.info(G, 4))\n",
    "# 计算图连边密度\n",
    "print(nx.density(G))\n"
   ]
  },
  {
   "cell_type": "code",
   "execution_count": 14,
   "metadata": {},
   "outputs": [
    {
     "name": "stdout",
     "output_type": "stream",
     "text": [
      "[1, 2, 3, 4, 5, 6, 7]\n",
      "7\n",
      "[1, 3, 4, 5]\n",
      "[6, 7]\n",
      "[5]\n"
     ]
    }
   ],
   "source": [
    "# 返回图节点标签\n",
    "print(nx.nodes(G))\n",
    "# 返回节点数量\n",
    "print(nx.number_of_nodes(G))\n",
    "# 获取指定节点的邻居\n",
    "print(list(nx.neighbors(G, 2)))\n",
    "# 获取指定节点的非邻居\n",
    "print(list(nx.non_neighbors(G, 2)))\n",
    "# 获取图中两个节点的公共邻居\n",
    "print(list(nx.common_neighbors(G, 2, 4)))"
   ]
  },
  {
   "cell_type": "code",
   "execution_count": 15,
   "metadata": {},
   "outputs": [
    {
     "name": "stdout",
     "output_type": "stream",
     "text": [
      "[(1, 2), (2, 3), (2, 4), (2, 5), (4, 5), (4, 6), (4, 7), (5, 7)]\n"
     ]
    }
   ],
   "source": [
    "# 返回所有连边\n",
    "print(nx.edges(G))\n",
    "# 返回连边数量\n",
    "print(nx.number_of_edges(G))"
   ]
  },
  {
   "cell_type": "code",
   "execution_count": null,
   "metadata": {},
   "outputs": [],
   "source": []
  }
 ],
 "metadata": {
  "kernelspec": {
   "display_name": "Python 3.9.6 64-bit",
   "language": "python",
   "name": "python3"
  },
  "language_info": {
   "codemirror_mode": {
    "name": "ipython",
    "version": 3
   },
   "file_extension": ".py",
   "mimetype": "text/x-python",
   "name": "python",
   "nbconvert_exporter": "python",
   "pygments_lexer": "ipython3",
   "version": "3.9.6"
  },
  "vscode": {
   "interpreter": {
    "hash": "12cf4d0b9b7b18c55261077a6853aabe6f033db06abf1184072cd2e823f414c8"
   }
  }
 },
 "nbformat": 4,
 "nbformat_minor": 0
}
