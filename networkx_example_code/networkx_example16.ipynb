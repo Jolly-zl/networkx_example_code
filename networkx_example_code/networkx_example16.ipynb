{
 "cells": [
  {
   "cell_type": "markdown",
   "metadata": {
    "collapsed": true,
    "pycharm": {
     "name": "#%% md\n"
    }
   },
   "source": [
    "### 《NetworkX编程实践基础》\n",
    "##### 16课：图的各种矩阵"
   ]
  },
  {
   "cell_type": "code",
   "execution_count": 1,
   "metadata": {
    "collapsed": false,
    "pycharm": {
     "name": "#%%\n"
    }
   },
   "outputs": [],
   "source": [
    "# !/usr/bin/python3\n",
    "# -*- coding: utf-8 -*-\n",
    "# Author ： 单哥的科研日常\n",
    "# 示例程序所用库的版本：networkx==2.6.3"
   ]
  },
  {
   "cell_type": "code",
   "execution_count": 1,
   "metadata": {
    "collapsed": false,
    "pycharm": {
     "name": "#%%\n"
    }
   },
   "outputs": [],
   "source": [
    "import networkx as nx"
   ]
  },
  {
   "cell_type": "code",
   "execution_count": 6,
   "metadata": {},
   "outputs": [
    {
     "data": {
      "image/png": "[encoded data removed]",
      "text/plain": [
       "<Figure size 432x288 with 1 Axes>"
      ]
     },
     "metadata": {},
     "output_type": "display_data"
    }
   ],
   "source": [
    "# 生成包含n个节点，连边概率为p的ER随机图\n",
    "n, p = 8, 0.5\n",
    "G = nx.erdos_renyi_graph(n, p)\n",
    "nx.draw(G, node_size=500, node_color='red', with_labels=True)"
   ]
  },
  {
   "cell_type": "code",
   "execution_count": 7,
   "metadata": {},
   "outputs": [
    {
     "name": "stdout",
     "output_type": "stream",
     "text": [
      "  (0, 6)\t1\n",
      "  (0, 7)\t1\n",
      "  (1, 3)\t1\n",
      "  (1, 4)\t1\n",
      "  (1, 6)\t1\n",
      "  (1, 7)\t1\n",
      "  (2, 5)\t1\n",
      "  (3, 1)\t1\n",
      "  (3, 4)\t1\n",
      "  (4, 1)\t1\n",
      "  (4, 3)\t1\n",
      "  (4, 5)\t1\n",
      "  (4, 6)\t1\n",
      "  (5, 2)\t1\n",
      "  (5, 4)\t1\n",
      "  (6, 0)\t1\n",
      "  (6, 1)\t1\n",
      "  (6, 4)\t1\n",
      "  (6, 7)\t1\n",
      "  (7, 0)\t1\n",
      "  (7, 1)\t1\n",
      "  (7, 6)\t1\n",
      "[[0 0 0 0 0 0 1 1]\n",
      " [0 0 0 1 1 0 1 1]\n",
      " [0 0 0 0 0 1 0 0]\n",
      " [0 1 0 0 1 0 0 0]\n",
      " [0 1 0 1 0 1 1 0]\n",
      " [0 0 1 0 1 0 0 0]\n",
      " [1 1 0 0 1 0 0 1]\n",
      " [1 1 0 0 0 0 1 0]]\n"
     ]
    }
   ],
   "source": [
    "# 邻接矩阵\n",
    "As = nx.adjacency_matrix(G) \n",
    "print(As)\n",
    "# 注意：对于networkx2.6以后的版本（如2.7，2.8）无法正常打印As，\n",
    "# 会出现：FutureWarning: adjacency_matrix will return a\n",
    "# scipy.sparse array instead of a matrix in Networkx 3.0.\n",
    "# 但并不影响获取邻接矩阵。\n",
    "\n",
    "# 转化成二维矩阵\n",
    "print(As.todense())"
   ]
  },
  {
   "cell_type": "code",
   "execution_count": 9,
   "metadata": {},
   "outputs": [
    {
     "data": {
      "text/plain": [
       "matrix([[1., 1., 0., 0., 0., 0., 0., 0., 0., 0., 0.],\n",
       "        [0., 0., 1., 1., 1., 1., 0., 0., 0., 0., 0.],\n",
       "        [0., 0., 0., 0., 0., 0., 1., 0., 0., 0., 0.],\n",
       "        [0., 0., 1., 0., 0., 0., 0., 1., 0., 0., 0.],\n",
       "        [0., 0., 0., 1., 0., 0., 0., 1., 1., 1., 0.],\n",
       "        [0., 0., 0., 0., 0., 0., 1., 0., 1., 0., 0.],\n",
       "        [1., 0., 0., 0., 1., 0., 0., 0., 0., 1., 1.],\n",
       "        [0., 1., 0., 0., 0., 1., 0., 0., 0., 0., 1.]])"
      ]
     },
     "execution_count": 9,
     "metadata": {},
     "output_type": "execute_result"
    }
   ],
   "source": [
    "# 返回G的关联矩阵：N*M，N为节点数，M为连边数\n",
    "IM = nx.incidence_matrix(G)\n",
    "IM.todense()"
   ]
  },
  {
   "cell_type": "code",
   "execution_count": 12,
   "metadata": {},
   "outputs": [
    {
     "name": "stdout",
     "output_type": "stream",
     "text": [
      "[[ 2  0  0  0  0  0 -1 -1]\n",
      " [ 0  4  0 -1 -1  0 -1 -1]\n",
      " [ 0  0  1  0  0 -1  0  0]\n",
      " [ 0 -1  0  2 -1  0  0  0]\n",
      " [ 0 -1  0 -1  4 -1 -1  0]\n",
      " [ 0  0 -1  0 -1  2  0  0]\n",
      " [-1 -1  0  0 -1  0  4 -1]\n",
      " [-1 -1  0  0  0  0 -1  3]]\n"
     ]
    }
   ],
   "source": [
    "# 返回G的拉普拉斯矩阵\n",
    "Ls = nx.laplacian_matrix(G)\n",
    "# print(Ls)\n",
    "L = Ls.todense()  # L = D - A，D为节点度组成的对角矩阵，A为邻接矩阵\n",
    "print(L)"
   ]
  },
  {
   "cell_type": "markdown",
   "metadata": {},
   "source": [
    "#### 标准化的拉普拉斯矩阵如下：\n",
    "$N=D^{-1 / 2} L D^{-1 / 2}$"
   ]
  },
  {
   "cell_type": "code",
   "execution_count": 14,
   "metadata": {},
   "outputs": [
    {
     "name": "stdout",
     "output_type": "stream",
     "text": [
      "[[ 1.          0.          0.          0.          0.          0.\n",
      "  -0.35355339 -0.40824829]\n",
      " [ 0.          1.          0.         -0.35355339 -0.25        0.\n",
      "  -0.25       -0.28867513]\n",
      " [ 0.          0.          1.          0.          0.         -0.70710678\n",
      "   0.          0.        ]\n",
      " [ 0.         -0.35355339  0.          1.         -0.35355339  0.\n",
      "   0.          0.        ]\n",
      " [ 0.         -0.25        0.         -0.35355339  1.         -0.35355339\n",
      "  -0.25        0.        ]\n",
      " [ 0.          0.         -0.70710678  0.         -0.35355339  1.\n",
      "   0.          0.        ]\n",
      " [-0.35355339 -0.25        0.          0.         -0.25        0.\n",
      "   1.         -0.28867513]\n",
      " [-0.40824829 -0.28867513  0.          0.          0.          0.\n",
      "  -0.28867513  1.        ]]\n"
     ]
    }
   ],
   "source": [
    "# 返回G的标准化拉普拉斯矩阵\n",
    "NLs = nx.normalized_laplacian_matrix(G)\n",
    "NL = NLs.todense()\n",
    "print(NL)"
   ]
  },
  {
   "cell_type": "code",
   "execution_count": null,
   "metadata": {},
   "outputs": [],
   "source": []
  }
 ],
 "metadata": {
  "kernelspec": {
   "display_name": "Python 3.9.6 64-bit",
   "language": "python",
   "name": "python3"
  },
  "language_info": {
   "codemirror_mode": {
    "name": "ipython",
    "version": 3
   },
   "file_extension": ".py",
   "mimetype": "text/x-python",
   "name": "python",
   "nbconvert_exporter": "python",
   "pygments_lexer": "ipython3",
   "version": "3.9.6"
  },
  "vscode": {
   "interpreter": {
    "hash": "12cf4d0b9b7b18c55261077a6853aabe6f033db06abf1184072cd2e823f414c8"
   }
  }
 },
 "nbformat": 4,
 "nbformat_minor": 0
}
