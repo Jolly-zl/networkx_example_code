{
 "cells": [
  {
   "cell_type": "markdown",
   "metadata": {
    "collapsed": true,
    "pycharm": {
     "name": "#%% md\n"
    }
   },
   "source": [
    "### 《NetworkX编程实践基础》\n",
    "##### 18课：网络与其他数据之间的转换"
   ]
  },
  {
   "cell_type": "code",
   "execution_count": 1,
   "metadata": {
    "collapsed": false,
    "pycharm": {
     "name": "#%%\n"
    }
   },
   "outputs": [],
   "source": [
    "# !/usr/bin/python3\n",
    "# -*- coding: utf-8 -*-\n",
    "# Author ： 单哥的科研日常\n",
    "# 示例程序所用库的版本：networkx==2.6.3"
   ]
  },
  {
   "cell_type": "code",
   "execution_count": 2,
   "metadata": {
    "collapsed": false,
    "pycharm": {
     "name": "#%%\n"
    }
   },
   "outputs": [],
   "source": [
    "import networkx as nx"
   ]
  },
  {
   "cell_type": "code",
   "execution_count": 9,
   "metadata": {},
   "outputs": [
    {
     "data": {
      "image/png": "[encoded data removed]",
      "text/plain": [
       "<Figure size 432x288 with 1 Axes>"
      ]
     },
     "metadata": {},
     "output_type": "display_data"
    }
   ],
   "source": [
    "# 将字典数据转化为网络\n",
    "d = {0: {1: {\"weight\": 1}, 2: {\"weight\": 2}}, 1: {2: {\"weight\": 3.5}}}\n",
    "G = nx.Graph(d)\n",
    "# 或者\n",
    "# G = nx.from_dict_of_dicts(d)\n",
    "edge_width = nx.get_edge_attributes(G, \"weight\")\n",
    "# print(width)\n",
    "nx.draw(G, node_size=500, node_color='red', with_labels=True, width=list(edge_width.values()))"
   ]
  },
  {
   "cell_type": "code",
   "execution_count": 8,
   "metadata": {},
   "outputs": [
    {
     "name": "stdout",
     "output_type": "stream",
     "text": [
      "{0: {1: {'weight': 1}, 2: {'weight': 2}}, 1: {0: {'weight': 1}, 2: {'weight': 3.5}}, 2: {0: {'weight': 2}, 1: {'weight': 3.5}}}\n"
     ]
    }
   ],
   "source": [
    "# 反过来把网络转换成字典数据\n",
    "print(nx.to_dict_of_dicts(G))"
   ]
  },
  {
   "cell_type": "code",
   "execution_count": 11,
   "metadata": {},
   "outputs": [
    {
     "name": "stdout",
     "output_type": "stream",
     "text": [
      "[(0, 1, {'weight': 1}), (0, 2, {'weight': 2}), (1, 2, {'weight': 3.5})]\n"
     ]
    }
   ],
   "source": [
    "# 其他转换格式使用类似\n",
    "edgelist = nx.to_edgelist(G)\n",
    "print(edgelist)"
   ]
  },
  {
   "cell_type": "code",
   "execution_count": 13,
   "metadata": {},
   "outputs": [],
   "source": [
    "G = nx.from_edgelist(edgelist)"
   ]
  },
  {
   "cell_type": "code",
   "execution_count": 14,
   "metadata": {},
   "outputs": [
    {
     "data": {
      "text/plain": [
       "matrix([[0. , 1. , 2. ],\n",
       "        [1. , 0. , 3.5],\n",
       "        [2. , 3.5, 0. ]])"
      ]
     },
     "execution_count": 14,
     "metadata": {},
     "output_type": "execute_result"
    }
   ],
   "source": [
    "# 获取邻接矩阵：matrix格式\n",
    "A = nx.to_numpy_matrix(G)\n",
    "A"
   ]
  },
  {
   "cell_type": "code",
   "execution_count": 15,
   "metadata": {},
   "outputs": [
    {
     "data": {
      "text/plain": [
       "array([[0. , 1. , 2. ],\n",
       "       [1. , 0. , 3.5],\n",
       "       [2. , 3.5, 0. ]])"
      ]
     },
     "execution_count": 15,
     "metadata": {},
     "output_type": "execute_result"
    }
   ],
   "source": [
    "# 获取邻接矩阵：array格式\n",
    "A = nx.to_numpy_array(G)\n",
    "A"
   ]
  },
  {
   "cell_type": "code",
   "execution_count": null,
   "metadata": {},
   "outputs": [],
   "source": []
  }
 ],
 "metadata": {
  "kernelspec": {
   "display_name": "Python 3.9.6 64-bit",
   "language": "python",
   "name": "python3"
  },
  "language_info": {
   "codemirror_mode": {
    "name": "ipython",
    "version": 3
   },
   "file_extension": ".py",
   "mimetype": "text/x-python",
   "name": "python",
   "nbconvert_exporter": "python",
   "pygments_lexer": "ipython3",
   "version": "3.9.6"
  },
  "vscode": {
   "interpreter": {
    "hash": "12cf4d0b9b7b18c55261077a6853aabe6f033db06abf1184072cd2e823f414c8"
   }
  }
 },
 "nbformat": 4,
 "nbformat_minor": 0
}
